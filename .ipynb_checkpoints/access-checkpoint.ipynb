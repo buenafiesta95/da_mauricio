{
 "cells": [
  {
   "cell_type": "code",
   "execution_count": 7,
   "id": "4ab9e165",
   "metadata": {},
   "outputs": [],
   "source": [
    "c_id ='27b10e1918a0404cb6fb89747bc014a9'\n",
    "c_se = '44f7ab6ca66f47dbae7e8ff538d3e805'"
   ]
  },
  {
   "cell_type": "code",
   "execution_count": null,
   "id": "ae3ed44d",
   "metadata": {},
   "outputs": [],
   "source": []
  },
  {
   "cell_type": "code",
   "execution_count": null,
   "id": "4eaf14f0",
   "metadata": {},
   "outputs": [],
   "source": []
  }
 ],
 "metadata": {
  "kernelspec": {
   "display_name": "Python 3 (ipykernel)",
   "language": "python",
   "name": "python3"
  },
  "language_info": {
   "codemirror_mode": {
    "name": "ipython",
    "version": 3
   },
   "file_extension": ".py",
   "mimetype": "text/x-python",
   "name": "python",
   "nbconvert_exporter": "python",
   "pygments_lexer": "ipython3",
   "version": "3.9.12"
  }
 },
 "nbformat": 4,
 "nbformat_minor": 5
}
