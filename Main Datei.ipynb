{
 "cells": [
  {
   "cell_type": "markdown",
   "id": "e5621b9a",
   "metadata": {},
   "source": [
    "## Customer Analysis Visualization"
   ]
  },
  {
   "cell_type": "code",
   "execution_count": 2,
   "id": "1717a8cb",
   "metadata": {},
   "outputs": [],
   "source": [
    "import numpy as np\n",
    "import pandas as pd\n",
    "import matplotlib.pyplot as plt\n",
    "%matplotlib inline\n",
    "import seaborn as sns\n",
    "from sklearn.preprocessing import StandardScaler\n",
    "from sklearn.preprocessing import quantile_transform\n",
    "from sklearn.preprocessing import minmax_scale\n",
    "from sklearn.preprocessing import OneHotEncoder  ##. better to use dummy from pandas \n",
    "from sklearn.preprocessing import PowerTransformer\n",
    "from scipy.stats import boxcox\n",
    "from sklearn.linear_model import LinearRegression\n",
    "from sklearn.model_selection import train_test_split\n",
    "import statsmodels.api as sm\n",
    "from scipy.stats import boxcox\n",
    "from sklearn.model_selection import train_test_split\n",
    "from sklearn.metrics import r2_score\n",
    "from sklearn.metrics import mean_squared_error as mse\n",
    "from sklearn.metrics import mean_absolute_error as mae\n",
    "pd.options.display.max_rows = 100"
   ]
  },
  {
   "cell_type": "markdown",
   "id": "e0199c6e",
   "metadata": {},
   "source": [
    "### Functions"
   ]
  },
  {
   "cell_type": "code",
   "execution_count": 3,
   "id": "fa0f78cb",
   "metadata": {},
   "outputs": [],
   "source": [
    "def clean_gender(x):\n",
    "    if x in ['M', 'Male']:\n",
    "        return 'M'\n",
    "    elif x in [\"F\", \"female\",\"Femal\"]:\n",
    "        return 'F'\n",
    "    else:\n",
    "        return 'U'\n",
    "    \n",
    "def replace_state(ca_df):\n",
    "    ca_df[\"state\"].replace({'Cali':'California', \"AZ\" : \"Arizona\", \"WA\":\"Washington\"}, inplace=True )\n",
    "    return ca_df\n",
    "\n",
    "def replace_income(ca_df):\n",
    "    ca_df[\"income\"].replace({0: np.mean(ca_df['income'])}, inplace=True )\n",
    "    return ca_df\n",
    "\n",
    "def replace_clv(ca_df): \n",
    "    ca_df[\"CLV\"].replace({0: np.mean(ca_df['CLV']), np.nan : np.mean(ca_df['CLV'])}, inplace=True )\n",
    "    return ca_df\n",
    "\n",
    "def replace_zone(ca_df):\n",
    "    ca_df[\"state\"].replace({'California':'West Region', \"Oregon\" : \"North West\", \"Washington\":\"East\", \"Arizona\":\"Central\",\"Nevada\":\"Central\"}, inplace=True )\n",
    "    return ca_df\n",
    "\n",
    "def lower_case_column_names(ca_df):\n",
    "    ca_df.columns=[i.lower() for i in ca_df.columns]\n",
    "    return ca_df"
   ]
  },
  {
   "cell_type": "markdown",
   "id": "7d5710bc",
   "metadata": {},
   "source": [
    "## Activity 1 (Monday)\n",
    "\n",
    "- Aggregate data into one Data Frame using Pandas. Pay attention that files may have different names for the same column. therefore, make sure that you unify the columns names before concating them.\n",
    "- Standardizing header names\n",
    "- Deleting and rearranging columns – delete the column customer as it is only a unique identifier for each row of data\n",
    "- Working with data types – Check the data types of all the columns and fix the incorrect ones (for ex. customer lifetime value and number of open complaints ). Hint: remove the percentage from the customer lifetime value and truncate it to an integer value.\n",
    "- Clean the number of open complaints and extract the middle number which is changing between records. pay attention that the number of open complaints is a categorical feature.\n",
    "- Filtering data and Correcting typos – Filter the data in state and gender column to standardize the texts in those columns\n",
    "- Removing duplicates\n"
   ]
  },
  {
   "cell_type": "markdown",
   "id": "948e0c54",
   "metadata": {},
   "source": [
    "## Importing data"
   ]
  },
  {
   "cell_type": "code",
   "execution_count": 4,
   "id": "e444c796",
   "metadata": {},
   "outputs": [],
   "source": [
    "file1 = pd.read_csv('datei1.csv')\n",
    "file2 = pd.read_csv('datei2.csv')\n",
    "file3 = pd.read_csv('datei3.csv')\n"
   ]
  },
  {
   "cell_type": "code",
   "execution_count": 5,
   "id": "3d8a3354",
   "metadata": {},
   "outputs": [],
   "source": [
    "ca_df = pd.concat([file1,file2,file3],axis = 0, sort=False)"
   ]
  },
  {
   "cell_type": "code",
   "execution_count": 6,
   "id": "ef2bd975",
   "metadata": {},
   "outputs": [],
   "source": [
    "ca_df = ca_df.reset_index(drop=True)"
   ]
  },
  {
   "cell_type": "code",
   "execution_count": 7,
   "id": "0dc13a34",
   "metadata": {
    "scrolled": true
   },
   "outputs": [
    {
     "data": {
      "text/html": [
       "<div>\n",
       "<style scoped>\n",
       "    .dataframe tbody tr th:only-of-type {\n",
       "        vertical-align: middle;\n",
       "    }\n",
       "\n",
       "    .dataframe tbody tr th {\n",
       "        vertical-align: top;\n",
       "    }\n",
       "\n",
       "    .dataframe thead th {\n",
       "        text-align: right;\n",
       "    }\n",
       "</style>\n",
       "<table border=\"1\" class=\"dataframe\">\n",
       "  <thead>\n",
       "    <tr style=\"text-align: right;\">\n",
       "      <th></th>\n",
       "      <th>&lt;&lt;&lt;&lt;&lt;&lt;&lt; HEAD</th>\n",
       "      <th>state</th>\n",
       "      <th>CLV</th>\n",
       "      <th>education</th>\n",
       "      <th>gender</th>\n",
       "      <th>income</th>\n",
       "      <th>monthly premium auto</th>\n",
       "      <th>number of open complaints</th>\n",
       "      <th>policy type</th>\n",
       "      <th>total claim amount</th>\n",
       "      <th>vehicle class</th>\n",
       "    </tr>\n",
       "  </thead>\n",
       "  <tbody>\n",
       "    <tr>\n",
       "      <th>0</th>\n",
       "      <td>total claim amount</td>\n",
       "      <td>NaN</td>\n",
       "      <td>NaN</td>\n",
       "      <td>NaN</td>\n",
       "      <td>NaN</td>\n",
       "      <td>NaN</td>\n",
       "      <td>NaN</td>\n",
       "      <td>NaN</td>\n",
       "      <td>NaN</td>\n",
       "      <td>NaN</td>\n",
       "      <td>NaN</td>\n",
       "    </tr>\n",
       "    <tr>\n",
       "      <th>1</th>\n",
       "      <td>2.704934</td>\n",
       "      <td>NaN</td>\n",
       "      <td>NaN</td>\n",
       "      <td>NaN</td>\n",
       "      <td>NaN</td>\n",
       "      <td>NaN</td>\n",
       "      <td>NaN</td>\n",
       "      <td>NaN</td>\n",
       "      <td>NaN</td>\n",
       "      <td>NaN</td>\n",
       "      <td>NaN</td>\n",
       "    </tr>\n",
       "    <tr>\n",
       "      <th>2</th>\n",
       "      <td>1131.464935</td>\n",
       "      <td>NaN</td>\n",
       "      <td>NaN</td>\n",
       "      <td>NaN</td>\n",
       "      <td>NaN</td>\n",
       "      <td>NaN</td>\n",
       "      <td>NaN</td>\n",
       "      <td>NaN</td>\n",
       "      <td>NaN</td>\n",
       "      <td>NaN</td>\n",
       "      <td>NaN</td>\n",
       "    </tr>\n",
       "    <tr>\n",
       "      <th>3</th>\n",
       "      <td>566.472247</td>\n",
       "      <td>NaN</td>\n",
       "      <td>NaN</td>\n",
       "      <td>NaN</td>\n",
       "      <td>NaN</td>\n",
       "      <td>NaN</td>\n",
       "      <td>NaN</td>\n",
       "      <td>NaN</td>\n",
       "      <td>NaN</td>\n",
       "      <td>NaN</td>\n",
       "      <td>NaN</td>\n",
       "    </tr>\n",
       "    <tr>\n",
       "      <th>4</th>\n",
       "      <td>529.881344</td>\n",
       "      <td>NaN</td>\n",
       "      <td>NaN</td>\n",
       "      <td>NaN</td>\n",
       "      <td>NaN</td>\n",
       "      <td>NaN</td>\n",
       "      <td>NaN</td>\n",
       "      <td>NaN</td>\n",
       "      <td>NaN</td>\n",
       "      <td>NaN</td>\n",
       "      <td>NaN</td>\n",
       "    </tr>\n",
       "    <tr>\n",
       "      <th>...</th>\n",
       "      <td>...</td>\n",
       "      <td>...</td>\n",
       "      <td>...</td>\n",
       "      <td>...</td>\n",
       "      <td>...</td>\n",
       "      <td>...</td>\n",
       "      <td>...</td>\n",
       "      <td>...</td>\n",
       "      <td>...</td>\n",
       "      <td>...</td>\n",
       "      <td>...</td>\n",
       "    </tr>\n",
       "    <tr>\n",
       "      <th>17081</th>\n",
       "      <td>NaN</td>\n",
       "      <td>California</td>\n",
       "      <td>23405.987980</td>\n",
       "      <td>Bachelor</td>\n",
       "      <td>M</td>\n",
       "      <td>71941.0</td>\n",
       "      <td>73.0</td>\n",
       "      <td>0.0</td>\n",
       "      <td>Personal Auto</td>\n",
       "      <td>198.234764</td>\n",
       "      <td>Four-Door Car</td>\n",
       "    </tr>\n",
       "    <tr>\n",
       "      <th>17082</th>\n",
       "      <td>NaN</td>\n",
       "      <td>California</td>\n",
       "      <td>3096.511217</td>\n",
       "      <td>College</td>\n",
       "      <td>F</td>\n",
       "      <td>21604.0</td>\n",
       "      <td>79.0</td>\n",
       "      <td>0.0</td>\n",
       "      <td>Corporate Auto</td>\n",
       "      <td>379.200000</td>\n",
       "      <td>Four-Door Car</td>\n",
       "    </tr>\n",
       "    <tr>\n",
       "      <th>17083</th>\n",
       "      <td>NaN</td>\n",
       "      <td>California</td>\n",
       "      <td>8163.890428</td>\n",
       "      <td>Bachelor</td>\n",
       "      <td>M</td>\n",
       "      <td>0.0</td>\n",
       "      <td>85.0</td>\n",
       "      <td>3.0</td>\n",
       "      <td>Corporate Auto</td>\n",
       "      <td>790.784983</td>\n",
       "      <td>Four-Door Car</td>\n",
       "    </tr>\n",
       "    <tr>\n",
       "      <th>17084</th>\n",
       "      <td>NaN</td>\n",
       "      <td>California</td>\n",
       "      <td>7524.442436</td>\n",
       "      <td>College</td>\n",
       "      <td>M</td>\n",
       "      <td>21941.0</td>\n",
       "      <td>96.0</td>\n",
       "      <td>0.0</td>\n",
       "      <td>Personal Auto</td>\n",
       "      <td>691.200000</td>\n",
       "      <td>Four-Door Car</td>\n",
       "    </tr>\n",
       "    <tr>\n",
       "      <th>17085</th>\n",
       "      <td>NaN</td>\n",
       "      <td>California</td>\n",
       "      <td>2611.836866</td>\n",
       "      <td>College</td>\n",
       "      <td>M</td>\n",
       "      <td>0.0</td>\n",
       "      <td>77.0</td>\n",
       "      <td>0.0</td>\n",
       "      <td>Corporate Auto</td>\n",
       "      <td>369.600000</td>\n",
       "      <td>Two-Door Car</td>\n",
       "    </tr>\n",
       "  </tbody>\n",
       "</table>\n",
       "<p>17086 rows × 11 columns</p>\n",
       "</div>"
      ],
      "text/plain": [
       "             <<<<<<< HEAD       state           CLV education gender   income  \\\n",
       "0      total claim amount         NaN           NaN       NaN    NaN      NaN   \n",
       "1                2.704934         NaN           NaN       NaN    NaN      NaN   \n",
       "2             1131.464935         NaN           NaN       NaN    NaN      NaN   \n",
       "3              566.472247         NaN           NaN       NaN    NaN      NaN   \n",
       "4              529.881344         NaN           NaN       NaN    NaN      NaN   \n",
       "...                   ...         ...           ...       ...    ...      ...   \n",
       "17081                 NaN  California  23405.987980  Bachelor      M  71941.0   \n",
       "17082                 NaN  California   3096.511217   College      F  21604.0   \n",
       "17083                 NaN  California   8163.890428  Bachelor      M      0.0   \n",
       "17084                 NaN  California   7524.442436   College      M  21941.0   \n",
       "17085                 NaN  California   2611.836866   College      M      0.0   \n",
       "\n",
       "       monthly premium auto  number of open complaints     policy type  \\\n",
       "0                       NaN                        NaN             NaN   \n",
       "1                       NaN                        NaN             NaN   \n",
       "2                       NaN                        NaN             NaN   \n",
       "3                       NaN                        NaN             NaN   \n",
       "4                       NaN                        NaN             NaN   \n",
       "...                     ...                        ...             ...   \n",
       "17081                  73.0                        0.0   Personal Auto   \n",
       "17082                  79.0                        0.0  Corporate Auto   \n",
       "17083                  85.0                        3.0  Corporate Auto   \n",
       "17084                  96.0                        0.0   Personal Auto   \n",
       "17085                  77.0                        0.0  Corporate Auto   \n",
       "\n",
       "       total claim amount  vehicle class  \n",
       "0                     NaN            NaN  \n",
       "1                     NaN            NaN  \n",
       "2                     NaN            NaN  \n",
       "3                     NaN            NaN  \n",
       "4                     NaN            NaN  \n",
       "...                   ...            ...  \n",
       "17081          198.234764  Four-Door Car  \n",
       "17082          379.200000  Four-Door Car  \n",
       "17083          790.784983  Four-Door Car  \n",
       "17084          691.200000  Four-Door Car  \n",
       "17085          369.600000   Two-Door Car  \n",
       "\n",
       "[17086 rows x 11 columns]"
      ]
     },
     "execution_count": 7,
     "metadata": {},
     "output_type": "execute_result"
    }
   ],
   "source": [
    "ca_df"
   ]
  },
  {
   "cell_type": "code",
   "execution_count": 8,
   "id": "f8e555f3",
   "metadata": {},
   "outputs": [
    {
     "name": "stdout",
     "output_type": "stream",
     "text": [
      "<class 'pandas.core.frame.DataFrame'>\n",
      "RangeIndex: 17086 entries, 0 to 17085\n",
      "Data columns (total 11 columns):\n",
      " #   Column                     Non-Null Count  Dtype  \n",
      "---  ------                     --------------  -----  \n",
      " 0   <<<<<<< HEAD               4138 non-null   object \n",
      " 1   state                      7070 non-null   object \n",
      " 2   CLV                        7070 non-null   float64\n",
      " 3   education                  7070 non-null   object \n",
      " 4   gender                     7070 non-null   object \n",
      " 5   income                     7070 non-null   float64\n",
      " 6   monthly premium auto       7070 non-null   float64\n",
      " 7   number of open complaints  7070 non-null   float64\n",
      " 8   policy type                7070 non-null   object \n",
      " 9   total claim amount         7070 non-null   float64\n",
      " 10  vehicle class              7070 non-null   object \n",
      "dtypes: float64(5), object(6)\n",
      "memory usage: 1.4+ MB\n"
     ]
    }
   ],
   "source": [
    "ca_df.info()"
   ]
  },
  {
   "cell_type": "code",
   "execution_count": 9,
   "id": "6a0c9218",
   "metadata": {},
   "outputs": [
    {
     "data": {
      "text/plain": [
       "array([nan, 'M', 'F'], dtype=object)"
      ]
     },
     "execution_count": 9,
     "metadata": {},
     "output_type": "execute_result"
    }
   ],
   "source": [
    "ca_df['gender'].unique()"
   ]
  },
  {
   "cell_type": "code",
   "execution_count": 10,
   "id": "d5dca568",
   "metadata": {},
   "outputs": [
    {
     "data": {
      "text/plain": [
       "NaN    10016\n",
       "F       3576\n",
       "M       3494\n",
       "Name: gender, dtype: int64"
      ]
     },
     "execution_count": 10,
     "metadata": {},
     "output_type": "execute_result"
    }
   ],
   "source": [
    "ca_df.gender.value_counts(dropna=False)"
   ]
  },
  {
   "cell_type": "markdown",
   "id": "4480e034",
   "metadata": {},
   "source": [
    "## Using Clean_gender() Function to format gender data"
   ]
  },
  {
   "cell_type": "code",
   "execution_count": 11,
   "id": "b8f0adf8",
   "metadata": {},
   "outputs": [],
   "source": [
    "ca_df['gender'] = list(map(clean_gender, ca_df['gender'])) "
   ]
  },
  {
   "cell_type": "code",
   "execution_count": 12,
   "id": "b8ea336d",
   "metadata": {},
   "outputs": [
    {
     "data": {
      "text/plain": [
       "U    10016\n",
       "F     3576\n",
       "M     3494\n",
       "Name: gender, dtype: int64"
      ]
     },
     "execution_count": 12,
     "metadata": {},
     "output_type": "execute_result"
    }
   ],
   "source": [
    "ca_df.gender.value_counts(dropna=False)"
   ]
  },
  {
   "cell_type": "markdown",
   "id": "da73d83d",
   "metadata": {},
   "source": [
    "## Deleting \"%\" from Customer Lifetime Value"
   ]
  },
  {
   "cell_type": "code",
   "execution_count": 14,
   "id": "8b7fc51e",
   "metadata": {},
   "outputs": [
    {
     "ename": "AttributeError",
     "evalue": "Can only use .str accessor with string values!",
     "output_type": "error",
     "traceback": [
      "\u001b[1;31m---------------------------------------------------------------------------\u001b[0m",
      "\u001b[1;31mAttributeError\u001b[0m                            Traceback (most recent call last)",
      "Input \u001b[1;32mIn [14]\u001b[0m, in \u001b[0;36m<cell line: 1>\u001b[1;34m()\u001b[0m\n\u001b[1;32m----> 1\u001b[0m ca_df[\u001b[38;5;124m'\u001b[39m\u001b[38;5;124mCLV\u001b[39m\u001b[38;5;124m'\u001b[39m] \u001b[38;5;241m=\u001b[39m \u001b[43mca_df\u001b[49m\u001b[43m[\u001b[49m\u001b[38;5;124;43m'\u001b[39;49m\u001b[38;5;124;43mCLV\u001b[39;49m\u001b[38;5;124;43m'\u001b[39;49m\u001b[43m]\u001b[49m\u001b[38;5;241;43m.\u001b[39;49m\u001b[43mstr\u001b[49m\u001b[38;5;241m.\u001b[39mstrip(\u001b[38;5;124m\"\u001b[39m\u001b[38;5;124m%\u001b[39m\u001b[38;5;124m\"\u001b[39m)\n",
      "File \u001b[1;32mC:\\Anaconda\\envs\\DA\\lib\\site-packages\\pandas\\core\\generic.py:5575\u001b[0m, in \u001b[0;36mNDFrame.__getattr__\u001b[1;34m(self, name)\u001b[0m\n\u001b[0;32m   5568\u001b[0m \u001b[38;5;28;01mif\u001b[39;00m (\n\u001b[0;32m   5569\u001b[0m     name \u001b[38;5;129;01mnot\u001b[39;00m \u001b[38;5;129;01min\u001b[39;00m \u001b[38;5;28mself\u001b[39m\u001b[38;5;241m.\u001b[39m_internal_names_set\n\u001b[0;32m   5570\u001b[0m     \u001b[38;5;129;01mand\u001b[39;00m name \u001b[38;5;129;01mnot\u001b[39;00m \u001b[38;5;129;01min\u001b[39;00m \u001b[38;5;28mself\u001b[39m\u001b[38;5;241m.\u001b[39m_metadata\n\u001b[0;32m   5571\u001b[0m     \u001b[38;5;129;01mand\u001b[39;00m name \u001b[38;5;129;01mnot\u001b[39;00m \u001b[38;5;129;01min\u001b[39;00m \u001b[38;5;28mself\u001b[39m\u001b[38;5;241m.\u001b[39m_accessors\n\u001b[0;32m   5572\u001b[0m     \u001b[38;5;129;01mand\u001b[39;00m \u001b[38;5;28mself\u001b[39m\u001b[38;5;241m.\u001b[39m_info_axis\u001b[38;5;241m.\u001b[39m_can_hold_identifiers_and_holds_name(name)\n\u001b[0;32m   5573\u001b[0m ):\n\u001b[0;32m   5574\u001b[0m     \u001b[38;5;28;01mreturn\u001b[39;00m \u001b[38;5;28mself\u001b[39m[name]\n\u001b[1;32m-> 5575\u001b[0m \u001b[38;5;28;01mreturn\u001b[39;00m \u001b[38;5;28;43mobject\u001b[39;49m\u001b[38;5;241;43m.\u001b[39;49m\u001b[38;5;21;43m__getattribute__\u001b[39;49m\u001b[43m(\u001b[49m\u001b[38;5;28;43mself\u001b[39;49m\u001b[43m,\u001b[49m\u001b[43m \u001b[49m\u001b[43mname\u001b[49m\u001b[43m)\u001b[49m\n",
      "File \u001b[1;32mC:\\Anaconda\\envs\\DA\\lib\\site-packages\\pandas\\core\\accessor.py:182\u001b[0m, in \u001b[0;36mCachedAccessor.__get__\u001b[1;34m(self, obj, cls)\u001b[0m\n\u001b[0;32m    179\u001b[0m \u001b[38;5;28;01mif\u001b[39;00m obj \u001b[38;5;129;01mis\u001b[39;00m \u001b[38;5;28;01mNone\u001b[39;00m:\n\u001b[0;32m    180\u001b[0m     \u001b[38;5;66;03m# we're accessing the attribute of the class, i.e., Dataset.geo\u001b[39;00m\n\u001b[0;32m    181\u001b[0m     \u001b[38;5;28;01mreturn\u001b[39;00m \u001b[38;5;28mself\u001b[39m\u001b[38;5;241m.\u001b[39m_accessor\n\u001b[1;32m--> 182\u001b[0m accessor_obj \u001b[38;5;241m=\u001b[39m \u001b[38;5;28;43mself\u001b[39;49m\u001b[38;5;241;43m.\u001b[39;49m\u001b[43m_accessor\u001b[49m\u001b[43m(\u001b[49m\u001b[43mobj\u001b[49m\u001b[43m)\u001b[49m\n\u001b[0;32m    183\u001b[0m \u001b[38;5;66;03m# Replace the property with the accessor object. Inspired by:\u001b[39;00m\n\u001b[0;32m    184\u001b[0m \u001b[38;5;66;03m# https://www.pydanny.com/cached-property.html\u001b[39;00m\n\u001b[0;32m    185\u001b[0m \u001b[38;5;66;03m# We need to use object.__setattr__ because we overwrite __setattr__ on\u001b[39;00m\n\u001b[0;32m    186\u001b[0m \u001b[38;5;66;03m# NDFrame\u001b[39;00m\n\u001b[0;32m    187\u001b[0m \u001b[38;5;28mobject\u001b[39m\u001b[38;5;241m.\u001b[39m\u001b[38;5;21m__setattr__\u001b[39m(obj, \u001b[38;5;28mself\u001b[39m\u001b[38;5;241m.\u001b[39m_name, accessor_obj)\n",
      "File \u001b[1;32mC:\\Anaconda\\envs\\DA\\lib\\site-packages\\pandas\\core\\strings\\accessor.py:177\u001b[0m, in \u001b[0;36mStringMethods.__init__\u001b[1;34m(self, data)\u001b[0m\n\u001b[0;32m    174\u001b[0m \u001b[38;5;28;01mdef\u001b[39;00m \u001b[38;5;21m__init__\u001b[39m(\u001b[38;5;28mself\u001b[39m, data):\n\u001b[0;32m    175\u001b[0m     \u001b[38;5;28;01mfrom\u001b[39;00m \u001b[38;5;21;01mpandas\u001b[39;00m\u001b[38;5;21;01m.\u001b[39;00m\u001b[38;5;21;01mcore\u001b[39;00m\u001b[38;5;21;01m.\u001b[39;00m\u001b[38;5;21;01marrays\u001b[39;00m\u001b[38;5;21;01m.\u001b[39;00m\u001b[38;5;21;01mstring_\u001b[39;00m \u001b[38;5;28;01mimport\u001b[39;00m StringDtype\n\u001b[1;32m--> 177\u001b[0m     \u001b[38;5;28mself\u001b[39m\u001b[38;5;241m.\u001b[39m_inferred_dtype \u001b[38;5;241m=\u001b[39m \u001b[38;5;28;43mself\u001b[39;49m\u001b[38;5;241;43m.\u001b[39;49m\u001b[43m_validate\u001b[49m\u001b[43m(\u001b[49m\u001b[43mdata\u001b[49m\u001b[43m)\u001b[49m\n\u001b[0;32m    178\u001b[0m     \u001b[38;5;28mself\u001b[39m\u001b[38;5;241m.\u001b[39m_is_categorical \u001b[38;5;241m=\u001b[39m is_categorical_dtype(data\u001b[38;5;241m.\u001b[39mdtype)\n\u001b[0;32m    179\u001b[0m     \u001b[38;5;28mself\u001b[39m\u001b[38;5;241m.\u001b[39m_is_string \u001b[38;5;241m=\u001b[39m \u001b[38;5;28misinstance\u001b[39m(data\u001b[38;5;241m.\u001b[39mdtype, StringDtype)\n",
      "File \u001b[1;32mC:\\Anaconda\\envs\\DA\\lib\\site-packages\\pandas\\core\\strings\\accessor.py:231\u001b[0m, in \u001b[0;36mStringMethods._validate\u001b[1;34m(data)\u001b[0m\n\u001b[0;32m    228\u001b[0m inferred_dtype \u001b[38;5;241m=\u001b[39m lib\u001b[38;5;241m.\u001b[39minfer_dtype(values, skipna\u001b[38;5;241m=\u001b[39m\u001b[38;5;28;01mTrue\u001b[39;00m)\n\u001b[0;32m    230\u001b[0m \u001b[38;5;28;01mif\u001b[39;00m inferred_dtype \u001b[38;5;129;01mnot\u001b[39;00m \u001b[38;5;129;01min\u001b[39;00m allowed_types:\n\u001b[1;32m--> 231\u001b[0m     \u001b[38;5;28;01mraise\u001b[39;00m \u001b[38;5;167;01mAttributeError\u001b[39;00m(\u001b[38;5;124m\"\u001b[39m\u001b[38;5;124mCan only use .str accessor with string values!\u001b[39m\u001b[38;5;124m\"\u001b[39m)\n\u001b[0;32m    232\u001b[0m \u001b[38;5;28;01mreturn\u001b[39;00m inferred_dtype\n",
      "\u001b[1;31mAttributeError\u001b[0m: Can only use .str accessor with string values!"
     ]
    }
   ],
   "source": [
    "ca_df['CLV'] = ca_df['CLV'].str.strip(\"%\")"
   ]
  },
  {
   "cell_type": "code",
   "execution_count": null,
   "id": "45386512",
   "metadata": {},
   "outputs": [],
   "source": [
    "ca_df"
   ]
  },
  {
   "cell_type": "markdown",
   "id": "261b83d1",
   "metadata": {},
   "source": [
    "## Changing the CLV from categorical values to numerical values"
   ]
  },
  {
   "cell_type": "code",
   "execution_count": null,
   "id": "bcd48ed2",
   "metadata": {},
   "outputs": [],
   "source": [
    "ca_df['CLV'] = pd.to_numeric(ca_df[\"CLV\"], errors =\"coerce\")"
   ]
  },
  {
   "cell_type": "code",
   "execution_count": null,
   "id": "fde0720f",
   "metadata": {},
   "outputs": [],
   "source": [
    "ca_df.info()"
   ]
  },
  {
   "cell_type": "markdown",
   "id": "2bcb21c7",
   "metadata": {},
   "source": [
    "## Extracting the middle number of number of open complaints"
   ]
  },
  {
   "cell_type": "code",
   "execution_count": null,
   "id": "1be70f50",
   "metadata": {},
   "outputs": [],
   "source": [
    "ca_df[\"number of open complaints\"]= ca_df[\"number of open complaints\"].apply(lambda x: x.split('/')[1] if type(x)==str else x)"
   ]
  },
  {
   "cell_type": "code",
   "execution_count": null,
   "id": "1154ace8",
   "metadata": {},
   "outputs": [],
   "source": [
    "ca_df['number of open complaints'] = pd.to_numeric(ca_df['number of open complaints'],errors='coerce')"
   ]
  },
  {
   "cell_type": "code",
   "execution_count": null,
   "id": "0825e1c1",
   "metadata": {},
   "outputs": [],
   "source": [
    "ca_df"
   ]
  },
  {
   "cell_type": "code",
   "execution_count": null,
   "id": "b39db8b3",
   "metadata": {},
   "outputs": [],
   "source": [
    "ca_df.state.value_counts(dropna=False)"
   ]
  },
  {
   "cell_type": "markdown",
   "id": "6ddc6e3d",
   "metadata": {},
   "source": [
    "## Correcting typos of the states"
   ]
  },
  {
   "cell_type": "code",
   "execution_count": null,
   "id": "6cef788f",
   "metadata": {},
   "outputs": [],
   "source": [
    "replace_state(ca_df)"
   ]
  },
  {
   "cell_type": "code",
   "execution_count": null,
   "id": "870c3f9f",
   "metadata": {},
   "outputs": [],
   "source": [
    "ca_df.state.value_counts(dropna=False)"
   ]
  },
  {
   "cell_type": "code",
   "execution_count": null,
   "id": "5148bde6",
   "metadata": {},
   "outputs": [],
   "source": [
    "ca_df.income.value_counts(dropna=False)"
   ]
  },
  {
   "cell_type": "markdown",
   "id": "41dc1f36",
   "metadata": {},
   "source": [
    "## Dropping Duplicates"
   ]
  },
  {
   "cell_type": "code",
   "execution_count": null,
   "id": "bc65c711",
   "metadata": {},
   "outputs": [],
   "source": [
    "ca_df.drop_duplicates(inplace=True)"
   ]
  },
  {
   "cell_type": "markdown",
   "id": "8c789917",
   "metadata": {},
   "source": [
    "## Activity 2 (Tuesday)\n",
    "\n",
    "- Replacing null values – Replace missing values with means of the column (for numerical columns). Pay attention that the Income feature for instance has 0s which is equivalent to null values. (We assume here that there is no such income with 0 as it refers to missing values) Hint: numpy.nan is considered of float64 data type.\n",
    "- Bucketing the data - Write a function to replace column \"State\" to different zones. California as West Region, Oregon as North West, and Washington as East, and Arizona and Nevada as Central"
   ]
  },
  {
   "cell_type": "markdown",
   "id": "c5750fdb",
   "metadata": {},
   "source": [
    "## Filling NaN cells with average income"
   ]
  },
  {
   "cell_type": "code",
   "execution_count": null,
   "id": "a19ef756",
   "metadata": {},
   "outputs": [],
   "source": [
    "mean_income = np.mean(ca_df['income'])\n",
    "ca_df['income'] = ca_df['income'].fillna(mean_income)"
   ]
  },
  {
   "cell_type": "code",
   "execution_count": null,
   "id": "a110979f",
   "metadata": {
    "scrolled": true
   },
   "outputs": [],
   "source": [
    "replace_income(ca_df)"
   ]
  },
  {
   "cell_type": "markdown",
   "id": "0cae7144",
   "metadata": {},
   "source": [
    "## Filling CLV NaN cells with the average CLV"
   ]
  },
  {
   "cell_type": "code",
   "execution_count": null,
   "id": "f8a400c8",
   "metadata": {
    "scrolled": true
   },
   "outputs": [],
   "source": [
    "replace_clv(ca_df)"
   ]
  },
  {
   "cell_type": "markdown",
   "id": "8fc21fb2",
   "metadata": {},
   "source": [
    "## Renaming states to zones"
   ]
  },
  {
   "cell_type": "code",
   "execution_count": null,
   "id": "456ac4b2",
   "metadata": {},
   "outputs": [],
   "source": [
    "ca_df.rename(columns={\"state\":\"zone\"}, inplace=True)"
   ]
  },
  {
   "cell_type": "code",
   "execution_count": null,
   "id": "a9d77e18",
   "metadata": {
    "scrolled": true
   },
   "outputs": [],
   "source": [
    "replace_zone(ca_df)"
   ]
  },
  {
   "cell_type": "markdown",
   "id": "c60ccbd2",
   "metadata": {},
   "source": [
    "## Activity 3 (Wednesday)\n",
    "\n",
    "- Get the numeric data into dataframe called numerical and categorical columns in a dataframe called categoricals. (You can use np.number and np.object to select the numerical data types and categorical data types respectively)\n",
    "- Now we will try to check the normality of the numerical variables visually\n",
    "        - Use seaborn library to construct distribution plots for the numerical variables\n",
    "        - Use Matplotlib to construct histograms\n",
    "        - Do the distributions for different numerical variables look like a normal distribution\n",
    "- For the numerical variables, check the multicollinearity between the features. Please note that we will use the column total_claim_amount later as the target variable."
   ]
  },
  {
   "cell_type": "code",
   "execution_count": null,
   "id": "83493e8f",
   "metadata": {},
   "outputs": [],
   "source": [
    "ca_df2 = pd.read_csv('Data_Marketing_Customer_Analysis_Round3.csv')"
   ]
  },
  {
   "cell_type": "code",
   "execution_count": null,
   "id": "1b024d90",
   "metadata": {},
   "outputs": [],
   "source": [
    "ca_df2 = ca_df2.reset_index(drop=True)"
   ]
  },
  {
   "cell_type": "code",
   "execution_count": null,
   "id": "f63d92b5",
   "metadata": {
    "scrolled": true
   },
   "outputs": [],
   "source": [
    "ca_df2"
   ]
  },
  {
   "cell_type": "markdown",
   "id": "55490ede",
   "metadata": {},
   "source": [
    "## Getting numeric data"
   ]
  },
  {
   "cell_type": "code",
   "execution_count": null,
   "id": "895a6e9d",
   "metadata": {
    "scrolled": true
   },
   "outputs": [],
   "source": [
    "num_val = ca_df2._get_numeric_data()"
   ]
  },
  {
   "cell_type": "code",
   "execution_count": null,
   "id": "e877115e",
   "metadata": {},
   "outputs": [],
   "source": [
    "num_val"
   ]
  },
  {
   "cell_type": "markdown",
   "id": "5a3b1164",
   "metadata": {},
   "source": [
    "## Getting Categorical data"
   ]
  },
  {
   "cell_type": "code",
   "execution_count": null,
   "id": "743608a8",
   "metadata": {},
   "outputs": [],
   "source": [
    "cat_val = ca_df2.select_dtypes(include=\"object\")"
   ]
  },
  {
   "cell_type": "code",
   "execution_count": null,
   "id": "2699bb01",
   "metadata": {},
   "outputs": [],
   "source": [
    "cat_val"
   ]
  },
  {
   "cell_type": "code",
   "execution_count": null,
   "id": "f98b0d65",
   "metadata": {
    "scrolled": true
   },
   "outputs": [],
   "source": [
    "sns.distplot(num_val, bins= 10)"
   ]
  },
  {
   "cell_type": "code",
   "execution_count": null,
   "id": "4b746db7",
   "metadata": {},
   "outputs": [],
   "source": [
    "ca_df2.hist(figsize=(12,12))"
   ]
  },
  {
   "cell_type": "code",
   "execution_count": null,
   "id": "8d689b2f",
   "metadata": {},
   "outputs": [],
   "source": [
    "pt = PowerTransformer()"
   ]
  },
  {
   "cell_type": "code",
   "execution_count": null,
   "id": "07c58acd",
   "metadata": {},
   "outputs": [],
   "source": [
    "val_transformed=pt.fit_transform(ca_df2._get_numeric_data().to_numpy().reshape(-1,1))\n",
    "sns.displot(val_transformed)"
   ]
  },
  {
   "cell_type": "code",
   "execution_count": null,
   "id": "dc6d2d26",
   "metadata": {},
   "outputs": [],
   "source": [
    "corr = ca_df2.corr()\n",
    "mask = np.zeros_like(corr)\n",
    "mask[np.triu_indices_from(mask)] = True\n",
    "with sns.axes_style(\"white\"):\n",
    "    f, ax = plt.subplots(figsize=(9, 7))\n",
    "    ax = sns.heatmap(corr, mask=mask,cmap='coolwarm', vmin=-1,vmax=1,annot=True, square=True)"
   ]
  },
  {
   "cell_type": "code",
   "execution_count": null,
   "id": "e9d55a1a",
   "metadata": {},
   "outputs": [],
   "source": [
    "ca_df3 = pd.read_csv('Data_Marketing_Customer_Analysis_Round2.csv')"
   ]
  },
  {
   "cell_type": "code",
   "execution_count": null,
   "id": "c953376f",
   "metadata": {},
   "outputs": [],
   "source": [
    "ca_df3['Total Claim Amount']"
   ]
  },
  {
   "cell_type": "code",
   "execution_count": null,
   "id": "aa7f9faf",
   "metadata": {},
   "outputs": [],
   "source": [
    "ca_df3.columns"
   ]
  },
  {
   "cell_type": "code",
   "execution_count": null,
   "id": "d7a02af7",
   "metadata": {},
   "outputs": [],
   "source": [
    "ca_df3.drop(labels=['Unnamed: 0'],axis=1,inplace=True)"
   ]
  },
  {
   "cell_type": "code",
   "execution_count": null,
   "id": "da9cce3b",
   "metadata": {},
   "outputs": [],
   "source": [
    "lower_case_column_names(ca_df3).head() # make headers uniformly lower case\n",
    "ca_df3.columns"
   ]
  },
  {
   "cell_type": "code",
   "execution_count": null,
   "id": "171d7820",
   "metadata": {},
   "outputs": [],
   "source": []
  },
  {
   "cell_type": "code",
   "execution_count": null,
   "id": "c2ee9b22",
   "metadata": {},
   "outputs": [],
   "source": []
  },
  {
   "cell_type": "code",
   "execution_count": null,
   "id": "d19e050c",
   "metadata": {
    "scrolled": true
   },
   "outputs": [],
   "source": [
    "plt.figure(figsize=(7,5))\n",
    "#plt.subplot(2,2,1)\n",
    "plt.title('Number of Responses', size='10')\n",
    "plt.yticks(np.arange(0,10000,1000))\n",
    "sns.countplot(ca_df2['response']) \n",
    "plt.xlabel('response',size=12)\n",
    "plt.ylabel('count',size=12)"
   ]
  },
  {
   "cell_type": "code",
   "execution_count": null,
   "id": "099b1b17",
   "metadata": {},
   "outputs": [],
   "source": [
    "plt.figure(figsize=(9,7))\n",
    "plt.title('Response by sales channel', size='20')\n",
    "\n",
    "sns.countplot(x=ca_df2['sales_channel'], hue=ca_df2['response']) "
   ]
  },
  {
   "cell_type": "code",
   "execution_count": null,
   "id": "659a2c08",
   "metadata": {},
   "outputs": [],
   "source": [
    "ca_df3['total claim amount'].max()"
   ]
  },
  {
   "cell_type": "code",
   "execution_count": null,
   "id": "b94b4d02",
   "metadata": {},
   "outputs": [],
   "source": [
    "pd.cut(ca_df3['total claim amount'],4)"
   ]
  },
  {
   "cell_type": "code",
   "execution_count": null,
   "id": "903daa3e",
   "metadata": {},
   "outputs": [],
   "source": [
    "723.384+2.794"
   ]
  },
  {
   "cell_type": "code",
   "execution_count": null,
   "id": "1d176ec0",
   "metadata": {},
   "outputs": [],
   "source": [
    "pd.qcut(ca_df3['total claim amount'],[0, .25, .5, .75, 1.])"
   ]
  },
  {
   "cell_type": "code",
   "execution_count": null,
   "id": "28ace61f",
   "metadata": {},
   "outputs": [],
   "source": [
    "plt.figure(figsize=(10,8))\n",
    "plt.title('Total claim amount by sales channel', size='20')\n",
    "#plt.xlabel('quartiles of total sales [2893]' )\n",
    "ax = sns.countplot(x=pd.cut(ca_df3['total claim amount'],4,labels=['c1:(0,723]','c2:(723,1447]','c3:(1447,2170])','c4:(2170,2893]']), hue=ca_df3['response']) \n",
    "ax.set_xlabel('claim bracket', size=14)\n",
    "plt.legend(loc='right')\n",
    "plt.ylabel('count',size=14)"
   ]
  },
  {
   "cell_type": "code",
   "execution_count": null,
   "id": "f9077c63",
   "metadata": {},
   "outputs": [],
   "source": []
  },
  {
   "cell_type": "code",
   "execution_count": null,
   "id": "d784db6e",
   "metadata": {},
   "outputs": [],
   "source": [
    "ca_df3['income'].max()\n",
    "\n",
    "bins = [int(99981*x+.001) for x in [0,.25,.5,.75,1]]\n",
    "bins = [0,25000,50000,75000,100000]\n",
    "bins"
   ]
  },
  {
   "cell_type": "code",
   "execution_count": null,
   "id": "d9e474c6",
   "metadata": {},
   "outputs": [],
   "source": [
    "income_cut = pd.cut(ca_df3['income'],bins, labels=['<25k','25k to 50k','50k to 75k','75k to 100k'],\n",
    "                    duplicates='drop')#,include_lowest=True)"
   ]
  },
  {
   "cell_type": "code",
   "execution_count": null,
   "id": "3fc491d2",
   "metadata": {},
   "outputs": [],
   "source": [
    "plt.figure(figsize=(10,8))\n",
    "plt.title('Response by Income Amount', size='20')\n",
    "#plt.xlabel('quartiles of total sales [2893]' )\n",
    "ax = sns.countplot(x=income_cut, hue=ca_df3['response']) \n",
    "ax.set_xlabel('income bracket',size=14)\n",
    "ax.set_yticks(np.arange(0,2500,250))\n",
    "plt.ylabel('count',size=14)"
   ]
  },
  {
   "cell_type": "code",
   "execution_count": null,
   "id": "d5b42732",
   "metadata": {},
   "outputs": [],
   "source": [
    "numericals_df   = ca_df3.select_dtypes(include=np.number) # get numerical columns using the select_dtypes method\n",
    "categoricals_df = ca_df3.select_dtypes(include=object)    # get cat columns  "
   ]
  },
  {
   "cell_type": "code",
   "execution_count": null,
   "id": "9c3adcc4",
   "metadata": {},
   "outputs": [],
   "source": [
    "n_corr = num_val.corr()\n",
    "mask = np.zeros_like(n_corr)\n",
    "mask[np.triu_indices_from(mask)] = True\n",
    "with sns.axes_style(\"white\"):\n",
    "    f, ax = plt.subplots(figsize=(10, 8))\n",
    "    ax = sns.heatmap(n_corr, mask=mask,cmap='coolwarm', vmin=-1,vmax=1,annot=True, square=True)"
   ]
  },
  {
   "cell_type": "code",
   "execution_count": null,
   "id": "37b76cb5",
   "metadata": {},
   "outputs": [],
   "source": []
  },
  {
   "cell_type": "code",
   "execution_count": null,
   "id": "9232a9c7",
   "metadata": {},
   "outputs": [],
   "source": []
  }
 ],
 "metadata": {
  "kernelspec": {
   "display_name": "Python 3 (ipykernel)",
   "language": "python",
   "name": "python3"
  },
  "language_info": {
   "codemirror_mode": {
    "name": "ipython",
    "version": 3
   },
   "file_extension": ".py",
   "mimetype": "text/x-python",
   "name": "python",
   "nbconvert_exporter": "python",
   "pygments_lexer": "ipython3",
   "version": "3.9.12"
  }
 },
 "nbformat": 4,
 "nbformat_minor": 5
}
